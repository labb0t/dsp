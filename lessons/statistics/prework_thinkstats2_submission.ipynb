{
 "cells": [
  {
   "cell_type": "code",
   "execution_count": 19,
   "metadata": {},
   "outputs": [],
   "source": [
    "%matplotlib inline\n",
    "\n",
    "import numpy as np\n",
    "import pandas as pd\n",
    "import matplotlib.pyplot as plt\n",
    "import math\n",
    "\n",
    "import nsfg\n",
    "\n",
    "pd.options.display.max_rows = 300\n",
    "pd.options.display.max_columns = 300"
   ]
  },
  {
   "cell_type": "markdown",
   "metadata": {},
   "source": [
    "## Exercise 2.4\n",
    "Using the variable `totalwgt_lb`, investigate whether first babies are lighter or heavier than others. Compute Cohen’s d to quantify the difference between the groups. How does it compare to the difference in pregnancy length?"
   ]
  },
  {
   "cell_type": "code",
   "execution_count": 20,
   "metadata": {},
   "outputs": [],
   "source": [
    "# import and select the data we need\n",
    "\n",
    "preg = nsfg.ReadFemPreg()\n",
    "live = preg[preg.outcome == 1]\n",
    "firsts = live[live.birthord == 1]\n",
    "others = live[live.birthord != 1]"
   ]
  },
  {
   "cell_type": "code",
   "execution_count": 21,
   "metadata": {},
   "outputs": [],
   "source": [
    "# create a function to calculate Cohen's D\n",
    "\n",
    "def CohensD (group1,group2):\n",
    "    mean1, mean2 = group1.mean(), group2.mean()\n",
    "    var1, var2 = group1.var(), group2.var()\n",
    "    size1, size2 = len(group1), len(group2)\n",
    "    pooled_std = math.sqrt((size1 * var1 + size2 * var2) / (size1 + size2))\n",
    "    d = (mean1 - mean2) / pooled_std\n",
    "    print(\"first mean:\",mean1)\n",
    "    print(\"second mean:\",mean2)\n",
    "    print(\"cohen's d:\",d)"
   ]
  },
  {
   "cell_type": "code",
   "execution_count": 22,
   "metadata": {},
   "outputs": [
    {
     "name": "stdout",
     "output_type": "stream",
     "text": [
      "first mean: 7.201094430437772\n",
      "second mean: 7.325855614973262\n",
      "cohen's d: -0.088672927072602\n"
     ]
    }
   ],
   "source": [
    "# execute function to calculate Cohen's D for our groups of interest\n",
    "\n",
    "CohensD(firsts['totalwgt_lb'],others['totalwgt_lb'])"
   ]
  },
  {
   "cell_type": "code",
   "execution_count": 23,
   "metadata": {},
   "outputs": [
    {
     "data": {
      "text/plain": [
       "<matplotlib.legend.Legend at 0x7fc01b9c5c10>"
      ]
     },
     "execution_count": 23,
     "metadata": {},
     "output_type": "execute_result"
    },
    {
     "data": {
      "image/png": "[encoded data removed]",
      "text/plain": [
       "<Figure size 432x288 with 1 Axes>"
      ]
     },
     "metadata": {
      "needs_background": "light"
     },
     "output_type": "display_data"
    }
   ],
   "source": [
    "# supplementary visual comparison\n",
    "\n",
    "plt.hist([firsts['totalwgt_lb'],others['totalwgt_lb']],label=['firsts','others'])\n",
    "plt.legend(loc='upper right')"
   ]
  },
  {
   "cell_type": "markdown",
   "metadata": {},
   "source": [
    "The difference in birhtweight between first-born and other births is more significant than when we looked at birth timing: Cohen's D of  -.089 (compared to .029). [This is considered a \"large\" effect size.](https://digitalcommons.wayne.edu/jmasm/vol8/iss2/26/)"
   ]
  },
  {
   "cell_type": "markdown",
   "metadata": {},
   "source": [
    "## Exercise 3.1\n",
    "Something like the class size paradox appears if you survey children and ask how many children are in their family. Families with many children are more likely to appear in your sample, and families with no children have no chance to be in the sample.\n",
    "\n",
    "Use the NSFG respondent variable `NUMKDHH` to construct the actual distribution for the number of children under 18 in the household.\n",
    "\n",
    "\n",
    "Now compute the biased distribution we would see if we surveyed the children and asked them how many children under 18 (including themselves) are in their household.\n",
    "\n",
    "Plot the actual and biased distributions, and compute their means."
   ]
  },
  {
   "cell_type": "code",
   "execution_count": 24,
   "metadata": {},
   "outputs": [],
   "source": [
    "# import dataset\n",
    "\n",
    "resp = nsfg.ReadFemResp()"
   ]
  },
  {
   "cell_type": "code",
   "execution_count": 54,
   "metadata": {},
   "outputs": [
    {
     "name": "stdout",
     "output_type": "stream",
     "text": [
      "Actual mean: 1.024205155043831\n",
      "Actual distribution: \n",
      " 0    3563\n",
      "1    1636\n",
      "2    1500\n",
      "3     666\n",
      "4     196\n",
      "5      82\n",
      "Name: numkdhh, dtype: int64\n",
      "Actual PMF: \n",
      " 0    0.466178\n",
      "1    0.214052\n",
      "2    0.196258\n",
      "3    0.087139\n",
      "4    0.025644\n",
      "5    0.010729\n",
      "Name: numkdhh, dtype: float64\n"
     ]
    },
    {
     "data": {
      "text/plain": [
       "(array([0.4661782 , 0.21405207, 0.19625801, 0.08713856, 0.03637315]),\n",
       " array([0., 1., 2., 3., 4., 5.]),\n",
       " <a list of 5 Patch objects>)"
      ]
     },
     "execution_count": 54,
     "metadata": {},
     "output_type": "execute_result"
    },
    {
     "data": {
      "image/png": "[encoded data removed]",
      "text/plain": [
       "<Figure size 432x288 with 1 Axes>"
      ]
     },
     "metadata": {
      "needs_background": "light"
     },
     "output_type": "display_data"
    }
   ],
   "source": [
    "# calculate and plot actual distribution\n",
    "\n",
    "actual_mean = resp['numkdhh'].mean()\n",
    "actual_dist = resp['numkdhh'].value_counts()\n",
    "actual_pmf = resp['numkdhh'].value_counts(normalize=True)\n",
    "\n",
    "print(\"Actual mean:\", actual_mean)\n",
    "print(\"Actual distribution: \\n\", actual_dist)\n",
    "print(\"Actual PMF: \\n\", actual_pmf)\n",
    "plt.hist(resp['numkdhh'], bins=5, density=True)"
   ]
  },
  {
   "cell_type": "code",
   "execution_count": 78,
   "metadata": {},
   "outputs": [
    {
     "name": "stdout",
     "output_type": "stream",
     "text": [
      "Biased mean: 2.403679100664282\n",
      "Biased PMF: \n",
      " 0    0.000000\n",
      "1    0.208993\n",
      "2    0.383240\n",
      "3    0.255238\n",
      "4    0.100153\n",
      "5    0.052376\n",
      "dtype: float64\n"
     ]
    },
    {
     "data": {
      "text/plain": [
       "<matplotlib.axes._subplots.AxesSubplot at 0x7fc01c74c190>"
      ]
     },
     "execution_count": 78,
     "metadata": {},
     "output_type": "execute_result"
    },
    {
     "data": {
      "image/png": "[encoded data removed]",
      "text/plain": [
       "<Figure size 432x288 with 1 Axes>"
      ]
     },
     "metadata": {
      "needs_background": "light"
     },
     "output_type": "display_data"
    }
   ],
   "source": [
    "# calculate the biased PMF by multplying the actual frequency * the number of children in the household\n",
    "# then normalize by dividing by the total sum\n",
    "\n",
    "biased_pmf = actual_dist.multiply(actual_dist.index) / actual_dist.multiply(actual_dist.index).sum()\n",
    "biased_mean = biased_pmf.multiply(biased_pmf.index).sum()\n",
    "\n",
    "print(\"Biased mean:\", biased_mean)\n",
    "print(\"Biased PMF: \\n\", biased_pmf)\n",
    "biased_pmf.plot(kind=\"bar\")"
   ]
  },
  {
   "cell_type": "code",
   "execution_count": 79,
   "metadata": {},
   "outputs": [],
   "source": [
    "# NOTE Goal is to return to this and figure out how to create a function that will generate the underlying dataset\n",
    "# i.e. multiply each value in the original data series by its index"
   ]
  },
  {
   "cell_type": "markdown",
   "metadata": {},
   "source": [
    "## Exercise 4.2\n",
    "The numbers generated by `numpy.random.random` are supposed to be uniform between 0 and 1; that is, every value in the range should have the same probability.\n",
    "\n",
    "Generate 1000 numbers from `numpy.random.random` and plot their PMF.  What goes wrong?\n",
    "\n",
    "Now plot the CDF. Is the distribution uniform?"
   ]
  },
  {
   "cell_type": "code",
   "execution_count": 120,
   "metadata": {
    "scrolled": true
   },
   "outputs": [
    {
     "data": {
      "image/png": "[encoded data removed]",
      "text/plain": [
       "<Figure size 432x288 with 1 Axes>"
      ]
     },
     "metadata": {
      "needs_background": "light"
     },
     "output_type": "display_data"
    }
   ],
   "source": [
    "# generate random numbers\n",
    "d = pd.Series(np.random.random(1000))\n",
    "\n",
    "# plot their PMF\n",
    "pmf = thinkstats2.Pmf(d)\n",
    "thinkplot.Pmf(pmf, linewidth=0.1)\n",
    "thinkplot.Config(xlabel='Random variate', ylabel='PMF')\n",
    "\n",
    "# NOTE would like to figure out how to do this without using thinkstats2. See below for current attempt\n",
    "#d = pd.Series(d)\n",
    "#d_pmf = d.value_counts(normalize = True)\n",
    "#d_pmf.plot(kind=\"bar\",width=0.001)"
   ]
  },
  {
   "cell_type": "markdown",
   "metadata": {},
   "source": [
    "The challenge with using PMF to visualize the distribution of this data is that the n is large enough that it's difficult to visualize each data point and draw conclusions from any trends. Overall this does look like a uniform distribution but it's hard to tell whether there may be concentrations in certain spots."
   ]
  },
  {
   "cell_type": "code",
   "execution_count": 125,
   "metadata": {},
   "outputs": [
    {
     "data": {
      "text/plain": [
       "<matplotlib.axes._subplots.AxesSubplot at 0x7fbfcffb25e0>"
      ]
     },
     "execution_count": 125,
     "metadata": {},
     "output_type": "execute_result"
    },
    {
     "data": {
      "image/png": "[encoded data removed]",
      "text/plain": [
       "<Figure size 432x288 with 1 Axes>"
      ]
     },
     "metadata": {
      "needs_background": "light"
     },
     "output_type": "display_data"
    }
   ],
   "source": [
    "# plot the CDF\n",
    "d.hist(cumulative=True, density=1, bins=100)"
   ]
  },
  {
   "cell_type": "markdown",
   "metadata": {},
   "source": [
    "The distribution does appear to be uniform, demonstrated by the straight line CDF."
   ]
  },
  {
   "cell_type": "markdown",
   "metadata": {},
   "source": [
    "## Exercise 5.1\n",
    "In the BRFSS (see Section 5.4), the distribution of heights is roughly normal with parameters µ = 178 cm and σ = 7.7 cm for men, and µ = 163 cm and σ = 7.3 cm for women.\n",
    "\n",
    "In order to join Blue Man Group, you have to be male between 5’10” and 6’1” (see http://bluemancasting.com). What percentage of the U.S. male population is in this range? Hint: use `scipy.stats.norm.cdf`."
   ]
  },
  {
   "cell_type": "code",
   "execution_count": 126,
   "metadata": {},
   "outputs": [],
   "source": [
    "# import package\n",
    "import scipy.stats"
   ]
  },
  {
   "cell_type": "code",
   "execution_count": 135,
   "metadata": {},
   "outputs": [
    {
     "name": "stdout",
     "output_type": "stream",
     "text": [
      "% of US male population in range: 34%\n"
     ]
    }
   ],
   "source": [
    "# create a normal distribution for male height\n",
    "dist = scipy.stats.norm(loc=178, scale=7.7)\n",
    "\n",
    "# calculate the proportion that fall within the specified range\n",
    "low = dist.cdf(177.8)\n",
    "high = dist.cdf(185.4)\n",
    "diff = high-low\n",
    "print(\"% of US male population in range: {0:.0%}\".format(diff))"
   ]
  },
  {
   "cell_type": "markdown",
   "metadata": {},
   "source": [
    "## Bayesian (Elvis Presley twin)\n",
    "Bayes' Theorem is an important tool in understanding what we really know, given evidence of other information we have, in a quantitative way. It helps incorporate conditional probabilities into our conclusions.\n",
    "\n",
    "Elvis Presley had a twin brother who died at birth. What is the probability that Elvis was an identical twin? Assume we observe the following probabilities in the population: fraternal twin is 1/125 and identical twin is 1/300."
   ]
  },
  {
   "cell_type": "markdown",
   "metadata": {},
   "source": [
    "We can solve this by making our hypothesis, H = Elvis is an identical twin, and then using Bayes' Theorem to calculate p(H). Here are the values that need to be plugged into the equation:\n",
    "\n",
    "**P(H)** = (1/300) * (1/2) *(the baseline frequency that a birth results in identical twins AND the twins are male)*\n",
    "\n",
    "**P(D|H)** = 1 *(the probability that the twin would be male IF the pair was indeed identical is 100%)*\n",
    "\n",
    "**P(D)** = (1/300 * 1/2) + (1/4 * 1/125) *(this is the likelihood of having a male twins in ANY case. So the probability of a identical male twins plus the probability of fraternal male twins)*\n",
    "\n",
    "When you plug these into Bayes' Theorem and solve, you end up with p(H|D) = 5/11, or .45."
   ]
  },
  {
   "cell_type": "markdown",
   "metadata": {},
   "source": [
    "## Bayesian & Frequentist Comparison\n",
    "How do frequentist and Bayesian statistics compare?"
   ]
  },
  {
   "cell_type": "markdown",
   "metadata": {},
   "source": [
    "Some key differences between the two approaches:\n",
    "\n",
    "- Bayesian statistics requires the use of a **prior**, which is often subjective, whereas frequentist statistics looks only at the data from the current experiment.\n",
    "- The result of a Bayesian approach to hypothesis testing is a probability distribution, rather than a p-value. The former is more intuitive and therefore may be easier to communicate.\n",
    "- Frequentist methods are less computationally intensive than Bayesian methods, which may be one reason for their initial popularity. With modern computing power, it's now possible to employ Bayesian methods more broadly.\n"
   ]
  }
 ],
 "metadata": {
  "kernelspec": {
   "display_name": "Python 3",
   "language": "python",
   "name": "python3"
  },
  "language_info": {
   "codemirror_mode": {
    "name": "ipython",
    "version": 3
   },
   "file_extension": ".py",
   "mimetype": "text/x-python",
   "name": "python",
   "nbconvert_exporter": "python",
   "pygments_lexer": "ipython3",
   "version": "3.8.3"
  }
 },
 "nbformat": 4,
 "nbformat_minor": 4
}
